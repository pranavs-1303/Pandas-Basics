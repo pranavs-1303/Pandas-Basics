{
 "cells": [
  {
   "cell_type": "markdown",
   "metadata": {},
   "source": [
    "# *Importing the Pandas module*"
   ]
  },
  {
   "cell_type": "code",
   "execution_count": null,
   "metadata": {},
   "outputs": [],
   "source": [
    "import pandas as pd\n",
    "df = pd.read_csv('cricket.csv')\n",
    "print(df)"
   ]
  },
  {
   "cell_type": "markdown",
   "metadata": {},
   "source": [
    "# *Loading and displaying data using Pandas*"
   ]
  },
  {
   "cell_type": "code",
   "execution_count": null,
   "metadata": {},
   "outputs": [],
   "source": [
    "df = pd.read_csv('cricket.csv')\n",
    "print(df.head(3)) # prints first 5 rows by default if no argument is passed in\n",
    "print(df.tail(3)) # prints last 5 rows by defualt if no argument is passed in\n",
    "# To open an excel file - pd.read_excel(file_name)\n",
    "# To open a tab seperated file - pd.read_csv(file_name, delimiter = '\\t'\"print('damn bro tat').py\""
   ]
  },
  {
   "cell_type": "markdown",
   "metadata": {},
   "source": [
    "# *Reading data in Pandas*"
   ]
  },
  {
   "cell_type": "code",
   "execution_count": null,
   "metadata": {},
   "outputs": [],
   "source": [
    "# Read headers\n",
    "print(df.columns)\n",
    "\n",
    "# Read column and specific rows\n",
    "print(df['Score'][18:25])\n",
    "\n",
    "# Read multiple columns \n",
    "print(df[['Score','Format','Strike Rate']][18:25])\n",
    "\n",
    "# Read rows\n",
    "print(df.head(2))\n",
    "print(df.iloc[1]) # prints every column of the specified row [follows zero based indexing]\n",
    "\n",
    "# Read a specific location (row,column)\n",
    "print(df.iloc[2,0])\n",
    "\n",
    "# Iterrows method\n",
    "for index,row in df.iterrows():\n",
    "    print(index,row)\n",
    "\n",
    "# Loc method\n",
    "print(df.loc[df['Against'] == 'Australia'])"
   ]
  },
  {
   "cell_type": "markdown",
   "metadata": {},
   "source": [
    "# *Describing and Sorting data*"
   ]
  },
  {
   "cell_type": "code",
   "execution_count": null,
   "metadata": {},
   "outputs": [],
   "source": [
    "# Describe method - useful for numerical data\n",
    "print(df.describe())\n",
    "\n",
    "# Sorting data\n",
    "print(df.sort_values('Against', ascending = True))"
   ]
  },
  {
   "cell_type": "markdown",
   "metadata": {},
   "source": [
    "# *Making changes to data*"
   ]
  },
  {
   "cell_type": "code",
   "execution_count": null,
   "metadata": {},
   "outputs": [],
   "source": [
    "# Adding a column\n",
    "df['Total_modified'] = df['Batting Order'] + df['Score']\n",
    "\n",
    "# Removing columns\n",
    "df = df.drop(columns = ['Total','Total_modified'])\n",
    "print(df)\n",
    "\n",
    "# Change all rows containing the header Against as'Autralia' to 'AUS'\n",
    "df.loc[df['Against'] == 'Australia', 'Against'] = 'AUS' # For multiple parameters, the new value is given in the form of a list\n",
    "print(df)"
   ]
  },
  {
   "cell_type": "markdown",
   "metadata": {},
   "source": [
    "# *Saving the modified file*"
   ]
  },
  {
   "cell_type": "code",
   "execution_count": null,
   "metadata": {},
   "outputs": [],
   "source": [
    "df.to_csv('modified_data.csv', index = False) # does not store the index value in the file\n",
    "# To save as excel file - df.to_excel(filename.xlsx, index = False)\n",
    "# To save as tab seperated file - df.to_csv(filename.txt, index = False, sep = '\\t')"
   ]
  },
  {
   "cell_type": "markdown",
   "metadata": {},
   "source": [
    "# *Filtering Data*"
   ]
  },
  {
   "cell_type": "code",
   "execution_count": null,
   "metadata": {},
   "outputs": [],
   "source": [
    "print(df.loc[(df['Against'] == 'Australia') & (df['Venue'] == 'Adelaide Oval')]) # Use bitwise operators\n",
    "print(df.loc[(df['Against'] == 'Australia') | (df['Venue'] == 'Adelaide Oval')]) #Bitwise OR operator\n",
    "new_df = df.loc[(df['Against'] == 'Australia') | (df['Venue'] == 'Adelaide Oval')]\n",
    "new_df.reset_index(drop = True, inplace = True) # drop - deletes the old indices \n",
    "print(new_df)                                  # inplace - modifies the dataframe without the need of storing in a new object\n",
    "print(df.loc[~df['Venue'].str.contains('Adelaide')]) # prints the list of 100s where the venue is not Adelaide \n",
    "\n",
    "# Regex Filtering\n",
    "import re # importing the regex module\n",
    "# prints 100s scored against Australia or England\n",
    "print(df.loc[df['Against'].str.contains('Australia|England',flags = re.I,regex = True)])\n",
    "\n",
    "# Groupby Function\n",
    "\n",
    "# mean()\n",
    "# returns the mean values of all entries of a particular header and sorts it based on strike rate\n",
    "data = df.groupby(['Against']).mean('Strike Rate').sort_values('Strike Rate', ascending = True)\n",
    "print(data)\n",
    "\n",
    "#count()\n",
    "df['Count'] = 1\n",
    "#print(df)\n",
    "dat = df.groupby(['Against','Venue']).count()['Count'] # for each entry in against it returns the corresponding venue\n",
    "print(dat)\n",
    "\n",
    "# for more info, refer : https://pandas.pydata.org/docs/reference/api/pandas.DataFrame.groupby.html#pandas.DataFrame.groupby"
   ]
  }
 ],
 "metadata": {
  "kernelspec": {
   "display_name": "Python 3",
   "language": "python",
   "name": "python3"
  },
  "language_info": {
   "codemirror_mode": {
    "name": "ipython",
    "version": 3
   },
   "file_extension": ".py",
   "mimetype": "text/x-python",
   "name": "python",
   "nbconvert_exporter": "python",
   "pygments_lexer": "ipython3",
   "version": "3.10.10"
  }
 },
 "nbformat": 4,
 "nbformat_minor": 2
}
